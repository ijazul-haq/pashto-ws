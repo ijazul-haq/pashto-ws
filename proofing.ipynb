{
 "cells": [
  {
   "cell_type": "code",
   "execution_count": 1,
   "id": "a59b2b0a",
   "metadata": {},
   "outputs": [],
   "source": [
    "import pandas as pd\n",
    "import textwrap, joblib, random\n",
    "from sklearn_crfsuite import CRF, metrics"
   ]
  },
  {
   "cell_type": "code",
   "execution_count": 2,
   "id": "c9ea8ce0",
   "metadata": {
    "scrolled": true
   },
   "outputs": [
    {
     "name": "stdout",
     "output_type": "stream",
     "text": [
      "Total:  3000\n",
      "Train:  2400\n",
      "Test:  600\n"
     ]
    }
   ],
   "source": [
    "df = pd.read_csv('dataset/sample.csv', header=None)\n",
    "df = df.loc[:,0]\n",
    "tagged_sentences = []\n",
    "for sent in df:\n",
    "    sent = sent.replace('B', 'S')\n",
    "    sent = 'J'.join(sent)\n",
    "    sent = sent.replace('JSJ', 'S')\n",
    "    sent+='S'\n",
    "    sent = textwrap.wrap(sent, 2)\n",
    "    tagged_sent = []\n",
    "    for pair in sent:\n",
    "        el = (pair[0], pair[1])\n",
    "        tagged_sent.append(el)\n",
    "    tagged_sentences.append(tagged_sent)\n",
    "\n",
    "random.seed(42)\n",
    "random.shuffle(tagged_sentences)    \n",
    "cutoff = int(.80 * len(tagged_sentences))\n",
    "train = tagged_sentences[:cutoff]\n",
    "test = tagged_sentences[cutoff:]\n",
    "\n",
    "print('Total: ', len(tagged_sentences))\n",
    "print('Train: ', len(train))\n",
    "print('Test: ', len(test))"
   ]
  },
  {
   "cell_type": "code",
   "execution_count": 3,
   "id": "6b13da55",
   "metadata": {},
   "outputs": [],
   "source": [
    "def features(sentence, index):\n",
    "    char = sentence[index]\n",
    "    features = {\n",
    "        'c': char,\n",
    "        'is_first': index == 0,\n",
    "        'is_last': index == len(sentence)-1\n",
    "    }\n",
    "    for n in range(1,5):\n",
    "        features['prev_'+str(n)] = ''.join(sentence[index-n:index+1])\n",
    "        features['next_'+str(n)] = ''.join(sentence[index+1:index+n+2]) \n",
    "    return features\n",
    "\n",
    "def transform_to_dataset(tagged_sentences):\n",
    "    X, y = [], []\n",
    "    for tagged in tagged_sentences:\n",
    "        untagged = [first for first, second in tagged]\n",
    "        X.append([features(untagged, index) for index in range(len(untagged))])\n",
    "        y.append([tag for _, tag in tagged])\n",
    "    return X, y\n",
    "\n",
    "X_train, y_train = transform_to_dataset(train)\n",
    "X_test, y_test = transform_to_dataset(test)"
   ]
  },
  {
   "cell_type": "code",
   "execution_count": 4,
   "id": "335ef6b2",
   "metadata": {},
   "outputs": [
    {
     "data": {
      "text/plain": [
       "['models/proofing.sav']"
      ]
     },
     "execution_count": 4,
     "metadata": {},
     "output_type": "execute_result"
    }
   ],
   "source": [
    "model = CRF(algorithm = 'lbfgs', c1 = 0.1, c2 = 0.1, max_iterations = 100, all_possible_transitions=True)\n",
    "model.fit(X_train, y_train)\n",
    "joblib.dump(model, 'models/proofing.sav')"
   ]
  },
  {
   "cell_type": "code",
   "execution_count": 5,
   "id": "6792e437",
   "metadata": {},
   "outputs": [
    {
     "name": "stdout",
     "output_type": "stream",
     "text": [
      " P\t R\t F1\t Acc\n",
      "98.03\t97.76\t97.89\t98.28\n",
      "\n"
     ]
    }
   ],
   "source": [
    "y_pred = model.predict(X_test)\n",
    "\n",
    "prec = round(metrics.flat_precision_score(y_test, y_pred, average='macro')*100, 2)\n",
    "rec = round(metrics.flat_recall_score(y_test, y_pred, average='macro')*100, 2)\n",
    "f1 = round(metrics.flat_f1_score(y_test, y_pred, average='macro')*100, 2)\n",
    "acc = round(metrics.flat_accuracy_score(y_test, y_pred)*100, 2)\n",
    "\n",
    "print(' P\\t R\\t F1\\t Acc')\n",
    "row = f'{prec}\\t{rec}\\t{f1}\\t{acc}\\n'\n",
    "print(row)"
   ]
  },
  {
   "cell_type": "code",
   "execution_count": null,
   "id": "f6dd776d",
   "metadata": {},
   "outputs": [],
   "source": []
  }
 ],
 "metadata": {
  "kernelspec": {
   "display_name": "Python 3 (ipykernel)",
   "language": "python",
   "name": "python3"
  },
  "language_info": {
   "codemirror_mode": {
    "name": "ipython",
    "version": 3
   },
   "file_extension": ".py",
   "mimetype": "text/x-python",
   "name": "python",
   "nbconvert_exporter": "python",
   "pygments_lexer": "ipython3",
   "version": "3.8.16"
  }
 },
 "nbformat": 4,
 "nbformat_minor": 5
}
